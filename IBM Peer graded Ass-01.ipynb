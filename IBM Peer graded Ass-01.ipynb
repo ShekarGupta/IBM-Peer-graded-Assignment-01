{
 "cells": [
  {
   "cell_type": "markdown",
   "metadata": {},
   "source": [
    "<center>\n",
    "    <img src=\"https://s3-api.us-geo.objectstorage.softlayer.net/cf-courses-data/CognitiveClass/Logos/organization_logo/organization_logo.png\" width=\"300\" alt=\"cognitiveclass.ai logo\"  />\n",
    "</center>\n"
   ]
  },
  {
   "cell_type": "markdown",
   "metadata": {
    "tags": []
   },
   "source": [
    "#### Add your code below following the instructions given in the course\n"
   ]
  },
  {
   "cell_type": "markdown",
   "metadata": {},
   "source": [
    "# My Jupyter Notebook on IBM Watson Studio"
   ]
  },
  {
   "cell_type": "markdown",
   "metadata": {},
   "source": [
    "__BUKKA SAI SHEKAR__"
   ]
  },
  {
   "cell_type": "markdown",
   "metadata": {},
   "source": [
    "I want to become a professional Data Scientist."
   ]
  },
  {
   "cell_type": "markdown",
   "metadata": {},
   "source": [
    "*\"I'm interested in Data Science because I enjoy being a part of new technologies and the Data Science is one which combines math, computer science, and statistics with an eye for understanding how the world works.\"*"
   ]
  },
  {
   "cell_type": "markdown",
   "metadata": {},
   "source": [
    "### In the next cell, I'm going to add 1 with 2."
   ]
  },
  {
   "cell_type": "code",
   "execution_count": 3,
   "metadata": {},
   "outputs": [
    {
     "data": {
      "text/plain": [
       "3"
      ]
     },
     "execution_count": 3,
     "metadata": {},
     "output_type": "execute_result"
    }
   ],
   "source": [
    "1+2"
   ]
  },
  {
   "cell_type": "markdown",
   "metadata": {},
   "source": [
    "\n",
    "---\n",
    "\n",
    "My hobbies :\n",
    "* Listening to songs\n",
    "* Drawing \n",
    "* Reading books\n",
    "\n",
    "Things I learnt in this course :\n",
    "1. Overview of programming languages used.\n",
    "2. Open source and commercial data science tools.\n",
    "3. Popular Data Science tools and etc..,.\n",
    "\n",
    "|  Parameters   |   Version   |     Type      |\n",
    "|     :----:    |    :----:   |     :----:    |\n",
    "| Watson Studio |     2.1     |   software    |\n",
    "|    Jupyter    |     2.2     |   software    |\n",
    "|    GitHub     |     2.3     |   software    |\n",
    "\n",
    "My favorite search engine is [Google](https://Google.com \"The best & most used search engine\").\n",
    "\n",
    "An Image : \n",
    "[![A Peaceful Place](https://i.scdn.co/image/ab67616d0000b273cb28f29bb324ae6f78a9c786)]\n",
    "\n",
    "~~This is wriiten just for an example~~ :)"
   ]
  },
  {
   "cell_type": "code",
   "execution_count": null,
   "metadata": {},
   "outputs": [],
   "source": []
  }
 ],
 "metadata": {
  "kernelspec": {
   "display_name": "Python",
   "language": "python",
   "name": "conda-env-python-py"
  },
  "language_info": {
   "codemirror_mode": {
    "name": "ipython",
    "version": 3
   },
   "file_extension": ".py",
   "mimetype": "text/x-python",
   "name": "python",
   "nbconvert_exporter": "python",
   "pygments_lexer": "ipython3",
   "version": "3.7.12"
  }
 },
 "nbformat": 4,
 "nbformat_minor": 4
}
